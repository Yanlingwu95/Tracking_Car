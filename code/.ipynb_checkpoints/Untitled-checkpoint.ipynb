{
 "cells": [
  {
   "cell_type": "code",
   "execution_count": 4,
   "metadata": {},
   "outputs": [],
   "source": [
    "import time\n",
    "from multiprocessing import Process, Queue, Value, Lock, Array\n",
    "import sys\n",
    "import subprocess\n",
    "\n",
    "def tilt():\n",
    "    start_time = time.time()\n",
    "    while time.time() -start_time < 10:\n",
    "        print(\"1\")\n",
    "        time.sleep(1)\n",
    "\n",
    "def wheels():\n",
    "    start_time = time.time()\n",
    "    while time.time() -start_time < 13:\n",
    "        print(\"2\")\n",
    "        time.sleep(1)        \n",
    "        \n",
    "if __name__ == '__main__': \n",
    "    run_flag = Value('i',1)\n",
    "    p0 = Process(target=tilt)\n",
    "    p1 = Process(target=wheels)\n",
    "    p0.start()\n",
    "    p1.start()\n",
    "    time.sleep(10)\n",
    "    p0.join()\n",
    "    p1.join()"
   ]
  },
  {
   "cell_type": "code",
   "execution_count": null,
   "metadata": {},
   "outputs": [],
   "source": []
  }
 ],
 "metadata": {
  "kernelspec": {
   "display_name": "tensorflow",
   "language": "python",
   "name": "tensorflow"
  },
  "language_info": {
   "codemirror_mode": {
    "name": "ipython",
    "version": 3
   },
   "file_extension": ".py",
   "mimetype": "text/x-python",
   "name": "python",
   "nbconvert_exporter": "python",
   "pygments_lexer": "ipython3",
   "version": "3.6.6"
  }
 },
 "nbformat": 4,
 "nbformat_minor": 2
}
